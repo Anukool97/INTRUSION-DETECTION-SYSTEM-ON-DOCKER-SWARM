{
 "cells": [
  {
   "cell_type": "code",
   "execution_count": 1,
   "metadata": {},
   "outputs": [
    {
     "data": {
      "text/plain": [
       "DecisionTreeClassifier(ccp_alpha=0.0, class_weight=None, criterion='entropy',\n",
       "                       max_depth=None, max_features=None, max_leaf_nodes=None,\n",
       "                       min_impurity_decrease=0.0, min_impurity_split=None,\n",
       "                       min_samples_leaf=1, min_samples_split=2,\n",
       "                       min_weight_fraction_leaf=0.0, presort='deprecated',\n",
       "                       random_state=0, splitter='best')"
      ]
     },
     "execution_count": 1,
     "metadata": {},
     "output_type": "execute_result"
    }
   ],
   "source": [
    "import pickle\n",
    "\n",
    "with open('DTC_Classifier.pkl', 'rb') as file:  \n",
    "    Pickled_DTC_Model1 = pickle.load(file)\n",
    "\n",
    "Pickled_DTC_Model1\n"
   ]
  },
  {
   "cell_type": "code",
   "execution_count": 27,
   "metadata": {},
   "outputs": [
    {
     "name": "stdout",
     "output_type": "stream",
     "text": [
      "[[-0.007679 -0.004919 -0.809262 ...  0.        0.        0.      ]\n",
      " [-0.007737 -0.004919 -0.809262 ...  0.        0.        0.      ]\n",
      " [-0.007762 -0.004919 -0.809262 ...  0.        0.        0.      ]\n",
      " ...\n",
      " [-0.007725 -0.004617  1.235694 ...  0.        0.        0.      ]\n",
      " [-0.007721 -0.00264   1.235694 ...  0.        0.        0.      ]\n",
      " [-0.007706 -0.004361  1.235694 ...  0.        0.        0.      ]]\n"
     ]
    }
   ],
   "source": [
    "# load numpy array from csv file\n",
    "from numpy import loadtxt\n",
    "import numpy as np\n",
    "# load array\n",
    "capture = np.loadtxt('capture.txt', dtype=float)\n",
    "# print the array\n",
    "print(capture)"
   ]
  },
  {
   "cell_type": "code",
   "execution_count": 28,
   "metadata": {},
   "outputs": [
    {
     "name": "stdout",
     "output_type": "stream",
     "text": [
      "X=[[-0.007679 -0.004919 -0.809262 ...  0.        0.        0.      ]\n",
      " [-0.007737 -0.004919 -0.809262 ...  0.        0.        0.      ]\n",
      " [-0.007762 -0.004919 -0.809262 ...  0.        0.        0.      ]\n",
      " ...\n",
      " [-0.007725 -0.004617  1.235694 ...  0.        0.        0.      ]\n",
      " [-0.007721 -0.00264   1.235694 ...  0.        0.        0.      ]\n",
      " [-0.007706 -0.004361  1.235694 ...  0.        0.        0.      ]], Predicted=[1. 1. 0. 1. 1. 0. 0. 0. 1. 0. 0. 0. 1. 1. 1. 1. 1. 1. 1. 0. 1. 1. 1. 1.\n",
      " 0. 1. 1. 1. 1. 1. 1. 1. 1. 1. 1. 1. 1. 1. 1. 1. 1. 1. 0. 1. 1. 1. 0. 0.\n",
      " 1. 1. 1. 1. 1. 1. 1. 0. 1. 0. 1. 1. 1. 1. 1. 0. 1. 1. 0. 1. 1. 1. 1. 0.\n",
      " 1. 1. 1. 1. 0. 1. 1. 0. 1. 1. 1. 1. 0. 1. 1. 1. 1. 1. 0. 1. 1. 1. 1. 0.\n",
      " 1. 1. 1. 1.]\n",
      "***************Suspicious Packet found. Please do the needfull*****************\n",
      "***************Suspicious Packet found. Please do the needfull*****************\n",
      "Safe Packet Type=Normal\n",
      "***************Suspicious Packet found. Please do the needfull*****************\n",
      "***************Suspicious Packet found. Please do the needfull*****************\n",
      "Safe Packet Type=Normal\n",
      "Safe Packet Type=Normal\n",
      "Safe Packet Type=Normal\n",
      "***************Suspicious Packet found. Please do the needfull*****************\n",
      "Safe Packet Type=Normal\n",
      "Safe Packet Type=Normal\n",
      "Safe Packet Type=Normal\n",
      "***************Suspicious Packet found. Please do the needfull*****************\n",
      "***************Suspicious Packet found. Please do the needfull*****************\n",
      "***************Suspicious Packet found. Please do the needfull*****************\n",
      "***************Suspicious Packet found. Please do the needfull*****************\n",
      "***************Suspicious Packet found. Please do the needfull*****************\n",
      "***************Suspicious Packet found. Please do the needfull*****************\n",
      "***************Suspicious Packet found. Please do the needfull*****************\n",
      "Safe Packet Type=Normal\n",
      "***************Suspicious Packet found. Please do the needfull*****************\n",
      "***************Suspicious Packet found. Please do the needfull*****************\n",
      "***************Suspicious Packet found. Please do the needfull*****************\n",
      "***************Suspicious Packet found. Please do the needfull*****************\n",
      "Safe Packet Type=Normal\n",
      "***************Suspicious Packet found. Please do the needfull*****************\n",
      "***************Suspicious Packet found. Please do the needfull*****************\n",
      "***************Suspicious Packet found. Please do the needfull*****************\n",
      "***************Suspicious Packet found. Please do the needfull*****************\n",
      "***************Suspicious Packet found. Please do the needfull*****************\n",
      "***************Suspicious Packet found. Please do the needfull*****************\n",
      "***************Suspicious Packet found. Please do the needfull*****************\n",
      "***************Suspicious Packet found. Please do the needfull*****************\n",
      "***************Suspicious Packet found. Please do the needfull*****************\n",
      "***************Suspicious Packet found. Please do the needfull*****************\n",
      "***************Suspicious Packet found. Please do the needfull*****************\n",
      "***************Suspicious Packet found. Please do the needfull*****************\n",
      "***************Suspicious Packet found. Please do the needfull*****************\n",
      "***************Suspicious Packet found. Please do the needfull*****************\n",
      "***************Suspicious Packet found. Please do the needfull*****************\n",
      "***************Suspicious Packet found. Please do the needfull*****************\n",
      "***************Suspicious Packet found. Please do the needfull*****************\n",
      "Safe Packet Type=Normal\n",
      "***************Suspicious Packet found. Please do the needfull*****************\n",
      "***************Suspicious Packet found. Please do the needfull*****************\n",
      "***************Suspicious Packet found. Please do the needfull*****************\n",
      "Safe Packet Type=Normal\n",
      "Safe Packet Type=Normal\n",
      "***************Suspicious Packet found. Please do the needfull*****************\n",
      "***************Suspicious Packet found. Please do the needfull*****************\n",
      "***************Suspicious Packet found. Please do the needfull*****************\n",
      "***************Suspicious Packet found. Please do the needfull*****************\n",
      "***************Suspicious Packet found. Please do the needfull*****************\n",
      "***************Suspicious Packet found. Please do the needfull*****************\n",
      "***************Suspicious Packet found. Please do the needfull*****************\n",
      "Safe Packet Type=Normal\n",
      "***************Suspicious Packet found. Please do the needfull*****************\n",
      "Safe Packet Type=Normal\n",
      "***************Suspicious Packet found. Please do the needfull*****************\n",
      "***************Suspicious Packet found. Please do the needfull*****************\n",
      "***************Suspicious Packet found. Please do the needfull*****************\n",
      "***************Suspicious Packet found. Please do the needfull*****************\n",
      "***************Suspicious Packet found. Please do the needfull*****************\n",
      "Safe Packet Type=Normal\n",
      "***************Suspicious Packet found. Please do the needfull*****************\n",
      "***************Suspicious Packet found. Please do the needfull*****************\n",
      "Safe Packet Type=Normal\n",
      "***************Suspicious Packet found. Please do the needfull*****************\n",
      "***************Suspicious Packet found. Please do the needfull*****************\n",
      "***************Suspicious Packet found. Please do the needfull*****************\n",
      "***************Suspicious Packet found. Please do the needfull*****************\n",
      "Safe Packet Type=Normal\n",
      "***************Suspicious Packet found. Please do the needfull*****************\n",
      "***************Suspicious Packet found. Please do the needfull*****************\n",
      "***************Suspicious Packet found. Please do the needfull*****************\n",
      "***************Suspicious Packet found. Please do the needfull*****************\n",
      "Safe Packet Type=Normal\n",
      "***************Suspicious Packet found. Please do the needfull*****************\n",
      "***************Suspicious Packet found. Please do the needfull*****************\n",
      "Safe Packet Type=Normal\n",
      "***************Suspicious Packet found. Please do the needfull*****************\n",
      "***************Suspicious Packet found. Please do the needfull*****************\n",
      "***************Suspicious Packet found. Please do the needfull*****************\n",
      "***************Suspicious Packet found. Please do the needfull*****************\n",
      "Safe Packet Type=Normal\n",
      "***************Suspicious Packet found. Please do the needfull*****************\n",
      "***************Suspicious Packet found. Please do the needfull*****************\n",
      "***************Suspicious Packet found. Please do the needfull*****************\n",
      "***************Suspicious Packet found. Please do the needfull*****************\n",
      "***************Suspicious Packet found. Please do the needfull*****************\n",
      "Safe Packet Type=Normal\n",
      "***************Suspicious Packet found. Please do the needfull*****************\n",
      "***************Suspicious Packet found. Please do the needfull*****************\n",
      "***************Suspicious Packet found. Please do the needfull*****************\n",
      "***************Suspicious Packet found. Please do the needfull*****************\n",
      "Safe Packet Type=Normal\n",
      "***************Suspicious Packet found. Please do the needfull*****************\n",
      "***************Suspicious Packet found. Please do the needfull*****************\n",
      "***************Suspicious Packet found. Please do the needfull*****************\n",
      "***************Suspicious Packet found. Please do the needfull*****************\n"
     ]
    }
   ],
   "source": [
    "Xnew = capture\n",
    "ynew = Pickled_DTC_Model1.predict(Xnew)\n",
    "print(\"X=%s, Predicted=%s\" % (Xnew, ynew))\n",
    "\n",
    "for alarm in ynew:\n",
    "    if alarm == 1.0:\n",
    "        print('***************Suspicious Packet found. Please do the needfull*****************')\n",
    "        \n",
    "    else:\n",
    "        print ('Safe Packet Type=Normal')"
   ]
  },
  {
   "cell_type": "code",
   "execution_count": null,
   "metadata": {},
   "outputs": [],
   "source": []
  },
  {
   "cell_type": "code",
   "execution_count": null,
   "metadata": {},
   "outputs": [],
   "source": []
  }
 ],
 "metadata": {
  "kernelspec": {
   "display_name": "Python 3",
   "language": "python",
   "name": "python3"
  },
  "language_info": {
   "codemirror_mode": {
    "name": "ipython",
    "version": 3
   },
   "file_extension": ".py",
   "mimetype": "text/x-python",
   "name": "python",
   "nbconvert_exporter": "python",
   "pygments_lexer": "ipython3",
   "version": "3.7.1"
  }
 },
 "nbformat": 4,
 "nbformat_minor": 2
}
